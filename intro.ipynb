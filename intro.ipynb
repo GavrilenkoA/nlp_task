{
 "cells": [
  {
   "cell_type": "code",
   "execution_count": 24,
   "id": "c91611af",
   "metadata": {},
   "outputs": [],
   "source": [
    "import pandas as pd\n",
    "import pickle\n",
    "import numpy as np\n",
    "from tqdm import tqdm\n",
    "import string\n",
    "import zipfile"
   ]
  },
  {
   "cell_type": "markdown",
   "id": "da722a30",
   "metadata": {},
   "source": [
    "#### Скачивание данных по ссылке из Яндекс-Диска"
   ]
  },
  {
   "cell_type": "code",
   "execution_count": 25,
   "id": "9488631f",
   "metadata": {},
   "outputs": [
    {
     "name": "stdout",
     "output_type": "stream",
     "text": [
      "  % Total    % Received % Xferd  Average Speed   Time    Time     Time  Current\n",
      "                                 Dload  Upload   Total   Spent    Left  Speed\n",
      "  0     0    0     0    0     0      0      0 --:--:-- --:--:-- --:--:--     0\n",
      "100  289M  100  289M    0     0  6550k      0  0:00:45  0:00:45 --:--:-- 3938k0:00:11  0:00:38 4589k\n"
     ]
    }
   ],
   "source": [
    "!curl -L $(yadisk-direct https://disk.yandex.ru/d/3klCc5D4_3Y-IA) -o data/test.csv.zip"
   ]
  },
  {
   "cell_type": "code",
   "execution_count": 26,
   "id": "c2c2b095",
   "metadata": {},
   "outputs": [],
   "source": [
    "zip_file_path = './data/test.csv.zip'\n",
    "extract_to_directory = './data/'\n"
   ]
  },
  {
   "cell_type": "code",
   "execution_count": 27,
   "id": "8c109245",
   "metadata": {},
   "outputs": [],
   "source": [
    "with zipfile.ZipFile(zip_file_path, 'r') as zip_ref:\n",
    "    zip_ref.extractall(extract_to_directory)"
   ]
  },
  {
   "cell_type": "code",
   "execution_count": 28,
   "id": "520e0f98",
   "metadata": {},
   "outputs": [],
   "source": [
    "data = pd.read_csv('./data/test.csv')"
   ]
  },
  {
   "cell_type": "code",
   "execution_count": 29,
   "id": "1bf235ec",
   "metadata": {},
   "outputs": [
    {
     "data": {
      "text/plain": [
       "(432158, 3)"
      ]
     },
     "execution_count": 29,
     "metadata": {},
     "output_type": "execute_result"
    }
   ],
   "source": [
    "data.shape"
   ]
  },
  {
   "cell_type": "code",
   "execution_count": 6,
   "id": "2be2a0a1",
   "metadata": {},
   "outputs": [
    {
     "data": {
      "text/plain": [
       "array(['Мир', 'Экономика', 'Интернет и СМИ', 'Спорт', 'Культура',\n",
       "       'Наука и техника'], dtype=object)"
      ]
     },
     "execution_count": 6,
     "metadata": {},
     "output_type": "execute_result"
    }
   ],
   "source": [
    "data.topic.unique()"
   ]
  },
  {
   "cell_type": "code",
   "execution_count": 7,
   "id": "24c9c26b",
   "metadata": {},
   "outputs": [
    {
     "data": {
      "text/plain": [
       "6"
      ]
     },
     "execution_count": 7,
     "metadata": {},
     "output_type": "execute_result"
    }
   ],
   "source": [
    "data.topic.nunique()"
   ]
  },
  {
   "cell_type": "code",
   "execution_count": 8,
   "id": "efcf73a1",
   "metadata": {},
   "outputs": [
    {
     "data": {
      "text/plain": [
       "Мир                136621\n",
       "Экономика           79528\n",
       "Спорт               64413\n",
       "Культура            53797\n",
       "Наука и техника     53136\n",
       "Интернет и СМИ      44663\n",
       "Name: topic, dtype: int64"
      ]
     },
     "execution_count": 8,
     "metadata": {},
     "output_type": "execute_result"
    }
   ],
   "source": [
    "data.topic.value_counts()"
   ]
  },
  {
   "cell_type": "markdown",
   "id": "4a4ba3c5",
   "metadata": {},
   "source": [
    "#### Задача multiclass classification - одному объекту соотвествует только одно из 6-ти возможных значений таргета."
   ]
  },
  {
   "cell_type": "code",
   "execution_count": 9,
   "id": "82c09aa6",
   "metadata": {},
   "outputs": [
    {
     "data": {
      "text/html": [
       "<div>\n",
       "<style scoped>\n",
       "    .dataframe tbody tr th:only-of-type {\n",
       "        vertical-align: middle;\n",
       "    }\n",
       "\n",
       "    .dataframe tbody tr th {\n",
       "        vertical-align: top;\n",
       "    }\n",
       "\n",
       "    .dataframe thead th {\n",
       "        text-align: right;\n",
       "    }\n",
       "</style>\n",
       "<table border=\"1\" class=\"dataframe\">\n",
       "  <thead>\n",
       "    <tr style=\"text-align: right;\">\n",
       "      <th></th>\n",
       "      <th>title</th>\n",
       "      <th>text</th>\n",
       "      <th>topic</th>\n",
       "    </tr>\n",
       "  </thead>\n",
       "  <tbody>\n",
       "    <tr>\n",
       "      <th>0</th>\n",
       "      <td>Британцы отмечают двухлетие смерти Дианы</td>\n",
       "      <td>&lt;?xml version=\"1.0\" encoding=\"utf-8\"?&gt;\\n&lt;conve...</td>\n",
       "      <td>Мир</td>\n",
       "    </tr>\n",
       "    <tr>\n",
       "      <th>1</th>\n",
       "      <td>Еще одно землетрясение в Турции: один человек ...</td>\n",
       "      <td>&lt;?xml version=\"1.0\" encoding=\"utf-8\"?&gt;\\n&lt;conve...</td>\n",
       "      <td>Мир</td>\n",
       "    </tr>\n",
       "    <tr>\n",
       "      <th>2</th>\n",
       "      <td>Российские национал-большевики убирают террито...</td>\n",
       "      <td>&lt;?xml version=\"1.0\" encoding=\"utf-8\"?&gt;\\n&lt;conve...</td>\n",
       "      <td>Мир</td>\n",
       "    </tr>\n",
       "    <tr>\n",
       "      <th>3</th>\n",
       "      <td>Киргизия ведет бои на границах с Таджикистаном...</td>\n",
       "      <td>&lt;?xml version=\"1.0\" encoding=\"utf-8\"?&gt;\\n&lt;conve...</td>\n",
       "      <td>Мир</td>\n",
       "    </tr>\n",
       "    <tr>\n",
       "      <th>4</th>\n",
       "      <td>Литва засудила участников переворота 91 года</td>\n",
       "      <td>&lt;?xml version=\"1.0\" encoding=\"utf-8\"?&gt;\\n&lt;conve...</td>\n",
       "      <td>Мир</td>\n",
       "    </tr>\n",
       "  </tbody>\n",
       "</table>\n",
       "</div>"
      ],
      "text/plain": [
       "                                               title  \\\n",
       "0           Британцы отмечают двухлетие смерти Дианы   \n",
       "1  Еще одно землетрясение в Турции: один человек ...   \n",
       "2  Российские национал-большевики убирают террито...   \n",
       "3  Киргизия ведет бои на границах с Таджикистаном...   \n",
       "4       Литва засудила участников переворота 91 года   \n",
       "\n",
       "                                                text topic  \n",
       "0  <?xml version=\"1.0\" encoding=\"utf-8\"?>\\n<conve...   Мир  \n",
       "1  <?xml version=\"1.0\" encoding=\"utf-8\"?>\\n<conve...   Мир  \n",
       "2  <?xml version=\"1.0\" encoding=\"utf-8\"?>\\n<conve...   Мир  \n",
       "3  <?xml version=\"1.0\" encoding=\"utf-8\"?>\\n<conve...   Мир  \n",
       "4  <?xml version=\"1.0\" encoding=\"utf-8\"?>\\n<conve...   Мир  "
      ]
     },
     "execution_count": 9,
     "metadata": {},
     "output_type": "execute_result"
    }
   ],
   "source": [
    "data.head()"
   ]
  },
  {
   "cell_type": "markdown",
   "id": "b27578a3",
   "metadata": {},
   "source": [
    "#### Закодируем значения таргетов"
   ]
  },
  {
   "cell_type": "code",
   "execution_count": 10,
   "id": "02806d6b",
   "metadata": {},
   "outputs": [],
   "source": [
    "def convert_target(df: pd.DataFrame) -> None:\n",
    "    target_value = {}\n",
    "    for i, item in enumerate(df.topic.unique()):\n",
    "        target_value[item] = i\n",
    "    \n",
    "    df['target'] = df.topic.apply(lambda x: target_value[x])\n",
    "    \n",
    "    "
   ]
  },
  {
   "cell_type": "code",
   "execution_count": 11,
   "id": "d832623b",
   "metadata": {},
   "outputs": [],
   "source": [
    "convert_target(data)\n",
    "    "
   ]
  },
  {
   "cell_type": "markdown",
   "id": "ca1aa5dd",
   "metadata": {},
   "source": [
    "#### Из-за вычислительной сложности работать буду только с заголовками"
   ]
  },
  {
   "cell_type": "code",
   "execution_count": 12,
   "id": "fe7b6bb2",
   "metadata": {},
   "outputs": [],
   "source": [
    "data = data.drop(['text'], axis=1)"
   ]
  },
  {
   "cell_type": "markdown",
   "id": "7dca9931",
   "metadata": {},
   "source": [
    "### Токенизация и лемматизация"
   ]
  },
  {
   "cell_type": "code",
   "execution_count": 13,
   "id": "41e91189",
   "metadata": {},
   "outputs": [
    {
     "name": "stderr",
     "output_type": "stream",
     "text": [
      "[nltk_data] Downloading package stopwords to /home/alexg/nltk_data...\n",
      "[nltk_data]   Package stopwords is already up-to-date!\n"
     ]
    },
    {
     "data": {
      "text/plain": [
       "True"
      ]
     },
     "execution_count": 13,
     "metadata": {},
     "output_type": "execute_result"
    }
   ],
   "source": [
    "import nltk\n",
    "nltk.download('stopwords')"
   ]
  },
  {
   "cell_type": "code",
   "execution_count": 14,
   "id": "4f16b165",
   "metadata": {},
   "outputs": [],
   "source": [
    "from nltk.corpus import stopwords\n",
    "import pymorphy2"
   ]
  },
  {
   "cell_type": "code",
   "execution_count": 15,
   "id": "cb79f566",
   "metadata": {},
   "outputs": [],
   "source": [
    "morph = pymorphy2.MorphAnalyzer()"
   ]
  },
  {
   "cell_type": "code",
   "execution_count": 16,
   "id": "26d61e4a",
   "metadata": {},
   "outputs": [],
   "source": [
    "stopw = stopwords.words('russian')  # стоп-слова"
   ]
  },
  {
   "cell_type": "code",
   "execution_count": 17,
   "id": "a2dfa334",
   "metadata": {},
   "outputs": [],
   "source": [
    "punct = list(string.punctuation) + ['«', '»'] # знаки пунктуации"
   ]
  },
  {
   "cell_type": "code",
   "execution_count": 18,
   "id": "0ceb9921",
   "metadata": {},
   "outputs": [],
   "source": [
    "from razdel import tokenize  # токенизатор"
   ]
  },
  {
   "cell_type": "code",
   "execution_count": 19,
   "id": "2eb7c0f4",
   "metadata": {},
   "outputs": [],
   "source": [
    "def tokenize_text(item: str) -> str:\n",
    "    toks = [word.text for word in tokenize(item)]\n",
    "    # не включаем токены - знаки пунктуации и стоп слова\n",
    "    toks = [token.lower() for token in toks if (token not in punct) and (token not in stopw)]\n",
    "    toks = ' '.join(toks)\n",
    "    return toks\n",
    "    "
   ]
  },
  {
   "cell_type": "code",
   "execution_count": 20,
   "id": "a07017e2",
   "metadata": {},
   "outputs": [],
   "source": [
    "data['title'] = data.title.apply(lambda x: tokenize_text(x))"
   ]
  },
  {
   "cell_type": "code",
   "execution_count": 22,
   "id": "33da3bc0",
   "metadata": {},
   "outputs": [],
   "source": [
    "data.to_pickle('./data/proc_data.pickle')"
   ]
  },
  {
   "cell_type": "code",
   "execution_count": 23,
   "id": "51db8514",
   "metadata": {},
   "outputs": [
    {
     "data": {
      "text/html": [
       "<div>\n",
       "<style scoped>\n",
       "    .dataframe tbody tr th:only-of-type {\n",
       "        vertical-align: middle;\n",
       "    }\n",
       "\n",
       "    .dataframe tbody tr th {\n",
       "        vertical-align: top;\n",
       "    }\n",
       "\n",
       "    .dataframe thead th {\n",
       "        text-align: right;\n",
       "    }\n",
       "</style>\n",
       "<table border=\"1\" class=\"dataframe\">\n",
       "  <thead>\n",
       "    <tr style=\"text-align: right;\">\n",
       "      <th></th>\n",
       "      <th>title</th>\n",
       "      <th>topic</th>\n",
       "      <th>target</th>\n",
       "    </tr>\n",
       "  </thead>\n",
       "  <tbody>\n",
       "    <tr>\n",
       "      <th>0</th>\n",
       "      <td>британцы отмечают двухлетие смерти дианы</td>\n",
       "      <td>Мир</td>\n",
       "      <td>0</td>\n",
       "    </tr>\n",
       "    <tr>\n",
       "      <th>1</th>\n",
       "      <td>еще одно землетрясение турции человек погиб ок...</td>\n",
       "      <td>Мир</td>\n",
       "      <td>0</td>\n",
       "    </tr>\n",
       "    <tr>\n",
       "      <th>2</th>\n",
       "      <td>российские национал-большевики убирают террито...</td>\n",
       "      <td>Мир</td>\n",
       "      <td>0</td>\n",
       "    </tr>\n",
       "    <tr>\n",
       "      <th>3</th>\n",
       "      <td>киргизия ведет бои границах таджикистаном узбе...</td>\n",
       "      <td>Мир</td>\n",
       "      <td>0</td>\n",
       "    </tr>\n",
       "    <tr>\n",
       "      <th>4</th>\n",
       "      <td>литва засудила участников переворота 91 года</td>\n",
       "      <td>Мир</td>\n",
       "      <td>0</td>\n",
       "    </tr>\n",
       "  </tbody>\n",
       "</table>\n",
       "</div>"
      ],
      "text/plain": [
       "                                               title topic  target\n",
       "0           британцы отмечают двухлетие смерти дианы   Мир       0\n",
       "1  еще одно землетрясение турции человек погиб ок...   Мир       0\n",
       "2  российские национал-большевики убирают террито...   Мир       0\n",
       "3  киргизия ведет бои границах таджикистаном узбе...   Мир       0\n",
       "4       литва засудила участников переворота 91 года   Мир       0"
      ]
     },
     "execution_count": 23,
     "metadata": {},
     "output_type": "execute_result"
    }
   ],
   "source": [
    "data.head()"
   ]
  },
  {
   "cell_type": "code",
   "execution_count": 43,
   "id": "b26c0e6d",
   "metadata": {},
   "outputs": [],
   "source": [
    "def convert_(chunk: pd.Series) -> list[tuple[int, str]:\n",
    "    chunk = chunk.to_list()\n",
    "    # (индекс, текст) в списке\n",
    "    out = [(i, chunk[i]) for i in range(len(chunk))]\n",
    "    return out"
   ]
  },
  {
   "cell_type": "code",
   "execution_count": 48,
   "id": "8c47a0e8",
   "metadata": {},
   "outputs": [],
   "source": [
    "def lemmotize(item: tuple[int, str]) -> tuple[int, str]:\n",
    "    idx = item[0]\n",
    "    # лемметазация текста\n",
    "    text = item[1].split(' ')\n",
    "    pymorphy_results = list(map(lambda x: morph.parse(x), text))\n",
    "    lemm_text = [res[0].normal_form for res in pymorphy_results]\n",
    "    \n",
    "    return (idx, lemm_text)\n",
    "    "
   ]
  },
  {
   "cell_type": "code",
   "execution_count": 49,
   "id": "2ac7a6c4",
   "metadata": {},
   "outputs": [],
   "source": [
    "import multiprocessing"
   ]
  },
  {
   "cell_type": "code",
   "execution_count": 50,
   "id": "0f2a1962",
   "metadata": {},
   "outputs": [],
   "source": [
    "titles = convert_(data.title)"
   ]
  },
  {
   "cell_type": "markdown",
   "id": "88f0b483",
   "metadata": {},
   "source": [
    "#### Распараллеливание вычислений, задавая 10 процессов"
   ]
  },
  {
   "cell_type": "code",
   "execution_count": 52,
   "id": "ad3937d0",
   "metadata": {},
   "outputs": [],
   "source": [
    "with multiprocessing.Pool(processes=10) as pool:\n",
    "    lemm_titles = pool.map(lemmotize, titles)"
   ]
  },
  {
   "cell_type": "code",
   "execution_count": 56,
   "id": "555c5e01",
   "metadata": {},
   "outputs": [],
   "source": [
    "def convert_todict(lemm_titles: list[tuple[int, str]] -> dict[int, str]:\n",
    "    lemm_dict_titles = {}\n",
    "    \n",
    "    for item in lemm_titles:\n",
    "        lemm_dict_titles[item[0]] = ' '.join(item[1])\n",
    "        \n",
    "    return lemm_dict_titles\n",
    "        "
   ]
  },
  {
   "cell_type": "code",
   "execution_count": 57,
   "id": "02180af1",
   "metadata": {},
   "outputs": [],
   "source": [
    "lemm_dict_titles = convert_todict(lemm_titles)"
   ]
  },
  {
   "cell_type": "code",
   "execution_count": 60,
   "id": "28acb370",
   "metadata": {},
   "outputs": [],
   "source": [
    "def save_obj(obj: object, name: str) -> None:\n",
    "    with open(name, 'wb') as f:\n",
    "        pickle.dump(obj, f)"
   ]
  },
  {
   "cell_type": "code",
   "execution_count": 62,
   "id": "bc31bb91",
   "metadata": {},
   "outputs": [],
   "source": [
    "save_obj(lemm_dict_titles, './data/lemm_titles.pkl')"
   ]
  },
  {
   "cell_type": "code",
   "execution_count": null,
   "id": "549180ac",
   "metadata": {},
   "outputs": [],
   "source": []
  }
 ],
 "metadata": {
  "kernelspec": {
   "display_name": "Python 3 (ipykernel)",
   "language": "python",
   "name": "python3"
  },
  "language_info": {
   "codemirror_mode": {
    "name": "ipython",
    "version": 3
   },
   "file_extension": ".py",
   "mimetype": "text/x-python",
   "name": "python",
   "nbconvert_exporter": "python",
   "pygments_lexer": "ipython3",
   "version": "3.10.12"
  }
 },
 "nbformat": 4,
 "nbformat_minor": 5
}
