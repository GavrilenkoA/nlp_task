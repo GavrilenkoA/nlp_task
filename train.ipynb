{
 "cells": [
  {
   "cell_type": "code",
   "execution_count": 1,
   "metadata": {
    "execution": {
     "iopub.execute_input": "2023-08-21T14:30:07.216388Z",
     "iopub.status.busy": "2023-08-21T14:30:07.216013Z",
     "iopub.status.idle": "2023-08-21T14:30:07.222844Z",
     "shell.execute_reply": "2023-08-21T14:30:07.221612Z",
     "shell.execute_reply.started": "2023-08-21T14:30:07.216357Z"
    }
   },
   "outputs": [],
   "source": [
    "import pandas as pd\n",
    "import pickle\n",
    "import numpy as np\n",
    "from sklearn.feature_extraction.text import TfidfVectorizer\n",
    "from tqdm import tqdm\n",
    "from sklearn.metrics import accuracy_score\n",
    "from sklearn.neighbors import KNeighborsClassifier\n",
    "from sklearn.model_selection import train_test_split\n",
    "from catboost import CatBoostClassifier, Pool"
   ]
  },
  {
   "cell_type": "code",
   "execution_count": 2,
   "metadata": {
    "execution": {
     "iopub.execute_input": "2023-08-21T14:30:09.795703Z",
     "iopub.status.busy": "2023-08-21T14:30:09.795318Z",
     "iopub.status.idle": "2023-08-21T14:30:09.800602Z",
     "shell.execute_reply": "2023-08-21T14:30:09.799518Z",
     "shell.execute_reply.started": "2023-08-21T14:30:09.795669Z"
    }
   },
   "outputs": [],
   "source": [
    "SEED = 42"
   ]
  },
  {
   "cell_type": "code",
   "execution_count": 3,
   "metadata": {
    "execution": {
     "iopub.execute_input": "2023-08-21T14:30:13.298865Z",
     "iopub.status.busy": "2023-08-21T14:30:13.298465Z",
     "iopub.status.idle": "2023-08-21T14:30:13.304645Z",
     "shell.execute_reply": "2023-08-21T14:30:13.303411Z",
     "shell.execute_reply.started": "2023-08-21T14:30:13.298834Z"
    }
   },
   "outputs": [],
   "source": [
    "def load_obj(name: str) -> object:\n",
    "    with open(name, \"rb\") as f:\n",
    "        obj = pickle.load(f)\n",
    "    return obj"
   ]
  },
  {
   "cell_type": "code",
   "execution_count": 4,
   "metadata": {
    "execution": {
     "iopub.execute_input": "2023-08-21T14:36:36.924861Z",
     "iopub.status.busy": "2023-08-21T14:36:36.923860Z",
     "iopub.status.idle": "2023-08-21T14:36:52.418443Z",
     "shell.execute_reply": "2023-08-21T14:36:52.417171Z",
     "shell.execute_reply.started": "2023-08-21T14:36:36.924815Z"
    }
   },
   "outputs": [],
   "source": [
    "data = pd.read_pickle('./data/proc_data.pickle')"
   ]
  },
  {
   "cell_type": "markdown",
   "metadata": {},
   "source": [
    "#### данные содержат уже токенизированные тексты"
   ]
  },
  {
   "cell_type": "code",
   "execution_count": 5,
   "metadata": {
    "execution": {
     "iopub.execute_input": "2023-08-21T14:36:55.495478Z",
     "iopub.status.busy": "2023-08-21T14:36:55.494718Z",
     "iopub.status.idle": "2023-08-21T14:36:55.507882Z",
     "shell.execute_reply": "2023-08-21T14:36:55.506709Z",
     "shell.execute_reply.started": "2023-08-21T14:36:55.495442Z"
    }
   },
   "outputs": [
    {
     "data": {
      "text/html": [
       "<div>\n",
       "<style scoped>\n",
       "    .dataframe tbody tr th:only-of-type {\n",
       "        vertical-align: middle;\n",
       "    }\n",
       "\n",
       "    .dataframe tbody tr th {\n",
       "        vertical-align: top;\n",
       "    }\n",
       "\n",
       "    .dataframe thead th {\n",
       "        text-align: right;\n",
       "    }\n",
       "</style>\n",
       "<table border=\"1\" class=\"dataframe\">\n",
       "  <thead>\n",
       "    <tr style=\"text-align: right;\">\n",
       "      <th></th>\n",
       "      <th>title</th>\n",
       "      <th>topic</th>\n",
       "      <th>target</th>\n",
       "    </tr>\n",
       "  </thead>\n",
       "  <tbody>\n",
       "    <tr>\n",
       "      <th>0</th>\n",
       "      <td>британцы отмечают двухлетие смерти дианы</td>\n",
       "      <td>Мир</td>\n",
       "      <td>0</td>\n",
       "    </tr>\n",
       "    <tr>\n",
       "      <th>1</th>\n",
       "      <td>еще одно землетрясение турции человек погиб ок...</td>\n",
       "      <td>Мир</td>\n",
       "      <td>0</td>\n",
       "    </tr>\n",
       "    <tr>\n",
       "      <th>2</th>\n",
       "      <td>российские национал-большевики убирают террито...</td>\n",
       "      <td>Мир</td>\n",
       "      <td>0</td>\n",
       "    </tr>\n",
       "    <tr>\n",
       "      <th>3</th>\n",
       "      <td>киргизия ведет бои границах таджикистаном узбе...</td>\n",
       "      <td>Мир</td>\n",
       "      <td>0</td>\n",
       "    </tr>\n",
       "    <tr>\n",
       "      <th>4</th>\n",
       "      <td>литва засудила участников переворота 91 года</td>\n",
       "      <td>Мир</td>\n",
       "      <td>0</td>\n",
       "    </tr>\n",
       "  </tbody>\n",
       "</table>\n",
       "</div>"
      ],
      "text/plain": [
       "                                               title topic  target\n",
       "0           британцы отмечают двухлетие смерти дианы   Мир       0\n",
       "1  еще одно землетрясение турции человек погиб ок...   Мир       0\n",
       "2  российские национал-большевики убирают террито...   Мир       0\n",
       "3  киргизия ведет бои границах таджикистаном узбе...   Мир       0\n",
       "4       литва засудила участников переворота 91 года   Мир       0"
      ]
     },
     "execution_count": 5,
     "metadata": {},
     "output_type": "execute_result"
    }
   ],
   "source": [
    "data.head()  "
   ]
  },
  {
   "cell_type": "code",
   "execution_count": 6,
   "metadata": {
    "execution": {
     "iopub.execute_input": "2023-08-21T14:36:59.280433Z",
     "iopub.status.busy": "2023-08-21T14:36:59.279413Z",
     "iopub.status.idle": "2023-08-21T14:36:59.285137Z",
     "shell.execute_reply": "2023-08-21T14:36:59.284056Z",
     "shell.execute_reply.started": "2023-08-21T14:36:59.280387Z"
    }
   },
   "outputs": [],
   "source": [
    "file_name = './data/lemm_titles.pkl'"
   ]
  },
  {
   "cell_type": "markdown",
   "metadata": {},
   "source": [
    "#### lemm_titles включают лемматизированные заголовки"
   ]
  },
  {
   "cell_type": "code",
   "execution_count": 7,
   "metadata": {
    "execution": {
     "iopub.execute_input": "2023-08-21T14:37:01.287981Z",
     "iopub.status.busy": "2023-08-21T14:37:01.287602Z",
     "iopub.status.idle": "2023-08-21T14:37:03.089695Z",
     "shell.execute_reply": "2023-08-21T14:37:03.088608Z",
     "shell.execute_reply.started": "2023-08-21T14:37:01.287947Z"
    }
   },
   "outputs": [],
   "source": [
    "lemm_titles = load_obj(file_name)"
   ]
  },
  {
   "cell_type": "code",
   "execution_count": 8,
   "metadata": {
    "execution": {
     "iopub.execute_input": "2023-08-21T14:37:54.441659Z",
     "iopub.status.busy": "2023-08-21T14:37:54.441129Z",
     "iopub.status.idle": "2023-08-21T14:37:54.447081Z",
     "shell.execute_reply": "2023-08-21T14:37:54.445919Z",
     "shell.execute_reply.started": "2023-08-21T14:37:54.441591Z"
    }
   },
   "outputs": [],
   "source": [
    "targets = data.target  # категории текстов"
   ]
  },
  {
   "cell_type": "code",
   "execution_count": 9,
   "metadata": {
    "execution": {
     "iopub.execute_input": "2023-08-21T14:37:55.269730Z",
     "iopub.status.busy": "2023-08-21T14:37:55.268968Z",
     "iopub.status.idle": "2023-08-21T14:37:55.280013Z",
     "shell.execute_reply": "2023-08-21T14:37:55.276140Z",
     "shell.execute_reply.started": "2023-08-21T14:37:55.269679Z"
    }
   },
   "outputs": [],
   "source": [
    "targets.name = 'Category'"
   ]
  },
  {
   "cell_type": "code",
   "execution_count": 10,
   "metadata": {
    "execution": {
     "iopub.execute_input": "2023-08-21T14:37:56.542486Z",
     "iopub.status.busy": "2023-08-21T14:37:56.542091Z",
     "iopub.status.idle": "2023-08-21T14:37:56.548189Z",
     "shell.execute_reply": "2023-08-21T14:37:56.546974Z",
     "shell.execute_reply.started": "2023-08-21T14:37:56.542453Z"
    }
   },
   "outputs": [],
   "source": [
    "del data  # удалим df для экономии оперативной памяти"
   ]
  },
  {
   "cell_type": "code",
   "execution_count": 11,
   "metadata": {
    "execution": {
     "iopub.execute_input": "2023-08-21T14:37:57.519615Z",
     "iopub.status.busy": "2023-08-21T14:37:57.519266Z",
     "iopub.status.idle": "2023-08-21T14:37:57.554878Z",
     "shell.execute_reply": "2023-08-21T14:37:57.553855Z",
     "shell.execute_reply.started": "2023-08-21T14:37:57.519586Z"
    }
   },
   "outputs": [],
   "source": [
    "values = list(lemm_titles.values())\n",
    "keys = list(lemm_titles.keys())"
   ]
  },
  {
   "cell_type": "code",
   "execution_count": 12,
   "metadata": {
    "execution": {
     "iopub.execute_input": "2023-08-21T14:37:58.814084Z",
     "iopub.status.busy": "2023-08-21T14:37:58.813708Z",
     "iopub.status.idle": "2023-08-21T14:37:58.879240Z",
     "shell.execute_reply": "2023-08-21T14:37:58.878251Z",
     "shell.execute_reply.started": "2023-08-21T14:37:58.814051Z"
    }
   },
   "outputs": [],
   "source": [
    "df = pd.DataFrame({'titles': values})"
   ]
  },
  {
   "cell_type": "code",
   "execution_count": 13,
   "metadata": {
    "execution": {
     "iopub.execute_input": "2023-08-21T14:37:59.629177Z",
     "iopub.status.busy": "2023-08-21T14:37:59.628790Z",
     "iopub.status.idle": "2023-08-21T14:37:59.648952Z",
     "shell.execute_reply": "2023-08-21T14:37:59.647969Z",
     "shell.execute_reply.started": "2023-08-21T14:37:59.629146Z"
    }
   },
   "outputs": [],
   "source": [
    "df = pd.concat([df, targets], axis=1)"
   ]
  },
  {
   "cell_type": "code",
   "execution_count": 14,
   "metadata": {
    "execution": {
     "iopub.execute_input": "2023-08-21T14:38:00.584298Z",
     "iopub.status.busy": "2023-08-21T14:38:00.583901Z",
     "iopub.status.idle": "2023-08-21T14:38:00.596291Z",
     "shell.execute_reply": "2023-08-21T14:38:00.592986Z",
     "shell.execute_reply.started": "2023-08-21T14:38:00.584266Z"
    }
   },
   "outputs": [
    {
     "data": {
      "text/html": [
       "<div>\n",
       "<style scoped>\n",
       "    .dataframe tbody tr th:only-of-type {\n",
       "        vertical-align: middle;\n",
       "    }\n",
       "\n",
       "    .dataframe tbody tr th {\n",
       "        vertical-align: top;\n",
       "    }\n",
       "\n",
       "    .dataframe thead th {\n",
       "        text-align: right;\n",
       "    }\n",
       "</style>\n",
       "<table border=\"1\" class=\"dataframe\">\n",
       "  <thead>\n",
       "    <tr style=\"text-align: right;\">\n",
       "      <th></th>\n",
       "      <th>titles</th>\n",
       "      <th>Category</th>\n",
       "    </tr>\n",
       "  </thead>\n",
       "  <tbody>\n",
       "    <tr>\n",
       "      <th>0</th>\n",
       "      <td>британец отмечать двухлетие смерть диана</td>\n",
       "      <td>0</td>\n",
       "    </tr>\n",
       "    <tr>\n",
       "      <th>1</th>\n",
       "      <td>ещё один землетрясение турция человек погибнут...</td>\n",
       "      <td>0</td>\n",
       "    </tr>\n",
       "    <tr>\n",
       "      <th>2</th>\n",
       "      <td>российский национал-большевик убирать территор...</td>\n",
       "      <td>0</td>\n",
       "    </tr>\n",
       "    <tr>\n",
       "      <th>3</th>\n",
       "      <td>киргизия вести бой граница таджикистан узбекистан</td>\n",
       "      <td>0</td>\n",
       "    </tr>\n",
       "    <tr>\n",
       "      <th>4</th>\n",
       "      <td>литва засудить участник переворот 91 год</td>\n",
       "      <td>0</td>\n",
       "    </tr>\n",
       "  </tbody>\n",
       "</table>\n",
       "</div>"
      ],
      "text/plain": [
       "                                              titles  Category\n",
       "0           британец отмечать двухлетие смерть диана         0\n",
       "1  ещё один землетрясение турция человек погибнут...         0\n",
       "2  российский национал-большевик убирать территор...         0\n",
       "3  киргизия вести бой граница таджикистан узбекистан         0\n",
       "4           литва засудить участник переворот 91 год         0"
      ]
     },
     "execution_count": 14,
     "metadata": {},
     "output_type": "execute_result"
    }
   ],
   "source": [
    "df.head()"
   ]
  },
  {
   "cell_type": "code",
   "execution_count": 27,
   "metadata": {
    "execution": {
     "iopub.execute_input": "2023-08-21T14:24:16.343711Z",
     "iopub.status.busy": "2023-08-21T14:24:16.343004Z",
     "iopub.status.idle": "2023-08-21T14:24:16.359655Z",
     "shell.execute_reply": "2023-08-21T14:24:16.358452Z",
     "shell.execute_reply.started": "2023-08-21T14:24:16.343673Z"
    }
   },
   "outputs": [],
   "source": [
    "lem_titles = df.titles.to_list()"
   ]
  },
  {
   "cell_type": "markdown",
   "metadata": {},
   "source": [
    "### tfidf Векторизация"
   ]
  },
  {
   "cell_type": "code",
   "execution_count": 61,
   "metadata": {
    "execution": {
     "iopub.execute_input": "2023-08-21T14:41:37.421441Z",
     "iopub.status.busy": "2023-08-21T14:41:37.421061Z",
     "iopub.status.idle": "2023-08-21T14:41:43.826121Z",
     "shell.execute_reply": "2023-08-21T14:41:43.824968Z",
     "shell.execute_reply.started": "2023-08-21T14:41:37.421411Z"
    }
   },
   "outputs": [],
   "source": [
    "vectorizer = TfidfVectorizer(max_df=0.85, min_df=0.003)\n",
    "vectors = vectorizer.fit_transform(lem_titles)\n",
    "selected_w = vectorizer.get_feature_names_out()\n",
    "tfidf_features = vectors.toarray()"
   ]
  },
  {
   "cell_type": "code",
   "execution_count": 62,
   "metadata": {
    "execution": {
     "iopub.execute_input": "2023-08-21T14:42:33.288649Z",
     "iopub.status.busy": "2023-08-21T14:42:33.288257Z",
     "iopub.status.idle": "2023-08-21T14:42:33.781356Z",
     "shell.execute_reply": "2023-08-21T14:42:33.780247Z",
     "shell.execute_reply.started": "2023-08-21T14:42:33.288618Z"
    }
   },
   "outputs": [],
   "source": [
    "X_train, X_test, y_train, y_test = train_test_split(tfidf_features, targets, test_size=0.2, random_state=SEED)"
   ]
  },
  {
   "cell_type": "markdown",
   "metadata": {},
   "source": [
    "#### В качестве бейзлайна применяется KNN. Алгоритм вычисляет расстояние признакового описания текущего объекта и всех остальных объектов. Далее выбирается k ближайших объектов и текущему объекту присваивается таргет на основе голосования (классификация) или среднеее (регрессия)."
   ]
  },
  {
   "cell_type": "code",
   "execution_count": 63,
   "metadata": {
    "execution": {
     "iopub.execute_input": "2023-08-21T14:52:10.771839Z",
     "iopub.status.busy": "2023-08-21T14:52:10.771446Z",
     "iopub.status.idle": "2023-08-21T14:52:10.776502Z",
     "shell.execute_reply": "2023-08-21T14:52:10.775517Z",
     "shell.execute_reply.started": "2023-08-21T14:52:10.771807Z"
    }
   },
   "outputs": [],
   "source": [
    "knn = KNeighborsClassifier(n_neighbors=3)"
   ]
  },
  {
   "cell_type": "code",
   "execution_count": 64,
   "metadata": {
    "execution": {
     "iopub.execute_input": "2023-08-21T14:52:31.246020Z",
     "iopub.status.busy": "2023-08-21T14:52:31.245614Z",
     "iopub.status.idle": "2023-08-21T14:52:31.363845Z",
     "shell.execute_reply": "2023-08-21T14:52:31.361949Z",
     "shell.execute_reply.started": "2023-08-21T14:52:31.245985Z"
    }
   },
   "outputs": [
    {
     "data": {
      "text/html": [
       "<style>#sk-container-id-1 {color: black;background-color: white;}#sk-container-id-1 pre{padding: 0;}#sk-container-id-1 div.sk-toggleable {background-color: white;}#sk-container-id-1 label.sk-toggleable__label {cursor: pointer;display: block;width: 100%;margin-bottom: 0;padding: 0.3em;box-sizing: border-box;text-align: center;}#sk-container-id-1 label.sk-toggleable__label-arrow:before {content: \"▸\";float: left;margin-right: 0.25em;color: #696969;}#sk-container-id-1 label.sk-toggleable__label-arrow:hover:before {color: black;}#sk-container-id-1 div.sk-estimator:hover label.sk-toggleable__label-arrow:before {color: black;}#sk-container-id-1 div.sk-toggleable__content {max-height: 0;max-width: 0;overflow: hidden;text-align: left;background-color: #f0f8ff;}#sk-container-id-1 div.sk-toggleable__content pre {margin: 0.2em;color: black;border-radius: 0.25em;background-color: #f0f8ff;}#sk-container-id-1 input.sk-toggleable__control:checked~div.sk-toggleable__content {max-height: 200px;max-width: 100%;overflow: auto;}#sk-container-id-1 input.sk-toggleable__control:checked~label.sk-toggleable__label-arrow:before {content: \"▾\";}#sk-container-id-1 div.sk-estimator input.sk-toggleable__control:checked~label.sk-toggleable__label {background-color: #d4ebff;}#sk-container-id-1 div.sk-label input.sk-toggleable__control:checked~label.sk-toggleable__label {background-color: #d4ebff;}#sk-container-id-1 input.sk-hidden--visually {border: 0;clip: rect(1px 1px 1px 1px);clip: rect(1px, 1px, 1px, 1px);height: 1px;margin: -1px;overflow: hidden;padding: 0;position: absolute;width: 1px;}#sk-container-id-1 div.sk-estimator {font-family: monospace;background-color: #f0f8ff;border: 1px dotted black;border-radius: 0.25em;box-sizing: border-box;margin-bottom: 0.5em;}#sk-container-id-1 div.sk-estimator:hover {background-color: #d4ebff;}#sk-container-id-1 div.sk-parallel-item::after {content: \"\";width: 100%;border-bottom: 1px solid gray;flex-grow: 1;}#sk-container-id-1 div.sk-label:hover label.sk-toggleable__label {background-color: #d4ebff;}#sk-container-id-1 div.sk-serial::before {content: \"\";position: absolute;border-left: 1px solid gray;box-sizing: border-box;top: 0;bottom: 0;left: 50%;z-index: 0;}#sk-container-id-1 div.sk-serial {display: flex;flex-direction: column;align-items: center;background-color: white;padding-right: 0.2em;padding-left: 0.2em;position: relative;}#sk-container-id-1 div.sk-item {position: relative;z-index: 1;}#sk-container-id-1 div.sk-parallel {display: flex;align-items: stretch;justify-content: center;background-color: white;position: relative;}#sk-container-id-1 div.sk-item::before, #sk-container-id-1 div.sk-parallel-item::before {content: \"\";position: absolute;border-left: 1px solid gray;box-sizing: border-box;top: 0;bottom: 0;left: 50%;z-index: -1;}#sk-container-id-1 div.sk-parallel-item {display: flex;flex-direction: column;z-index: 1;position: relative;background-color: white;}#sk-container-id-1 div.sk-parallel-item:first-child::after {align-self: flex-end;width: 50%;}#sk-container-id-1 div.sk-parallel-item:last-child::after {align-self: flex-start;width: 50%;}#sk-container-id-1 div.sk-parallel-item:only-child::after {width: 0;}#sk-container-id-1 div.sk-dashed-wrapped {border: 1px dashed gray;margin: 0 0.4em 0.5em 0.4em;box-sizing: border-box;padding-bottom: 0.4em;background-color: white;}#sk-container-id-1 div.sk-label label {font-family: monospace;font-weight: bold;display: inline-block;line-height: 1.2em;}#sk-container-id-1 div.sk-label-container {text-align: center;}#sk-container-id-1 div.sk-container {/* jupyter's `normalize.less` sets `[hidden] { display: none; }` but bootstrap.min.css set `[hidden] { display: none !important; }` so we also need the `!important` here to be able to override the default hidden behavior on the sphinx rendered scikit-learn.org. See: https://github.com/scikit-learn/scikit-learn/issues/21755 */display: inline-block !important;position: relative;}#sk-container-id-1 div.sk-text-repr-fallback {display: none;}</style><div id=\"sk-container-id-1\" class=\"sk-top-container\"><div class=\"sk-text-repr-fallback\"><pre>KNeighborsClassifier(n_neighbors=3)</pre><b>In a Jupyter environment, please rerun this cell to show the HTML representation or trust the notebook. <br />On GitHub, the HTML representation is unable to render, please try loading this page with nbviewer.org.</b></div><div class=\"sk-container\" hidden><div class=\"sk-item\"><div class=\"sk-estimator sk-toggleable\"><input class=\"sk-toggleable__control sk-hidden--visually\" id=\"sk-estimator-id-1\" type=\"checkbox\" checked><label for=\"sk-estimator-id-1\" class=\"sk-toggleable__label sk-toggleable__label-arrow\">KNeighborsClassifier</label><div class=\"sk-toggleable__content\"><pre>KNeighborsClassifier(n_neighbors=3)</pre></div></div></div></div></div>"
      ],
      "text/plain": [
       "KNeighborsClassifier(n_neighbors=3)"
      ]
     },
     "execution_count": 64,
     "metadata": {},
     "output_type": "execute_result"
    }
   ],
   "source": [
    "knn.fit(X_train, y_train)"
   ]
  },
  {
   "cell_type": "code",
   "execution_count": 65,
   "metadata": {
    "execution": {
     "iopub.execute_input": "2023-08-21T14:52:42.717506Z",
     "iopub.status.busy": "2023-08-21T14:52:42.717128Z",
     "iopub.status.idle": "2023-08-21T15:00:33.608361Z",
     "shell.execute_reply": "2023-08-21T15:00:33.607207Z",
     "shell.execute_reply.started": "2023-08-21T14:52:42.717474Z"
    }
   },
   "outputs": [],
   "source": [
    "y_pred = knn.predict(X_test)"
   ]
  },
  {
   "cell_type": "markdown",
   "metadata": {},
   "source": [
    "### Так как эта задача мультиклассовой классификации, распределение категорий в целом схоже, мало представленных категорий документов нет, __accuracy__ является адекватной метрикой, позволит увидеть что алгоритм способен классифицировать все категории документов\n"
   ]
  },
  {
   "cell_type": "code",
   "execution_count": 66,
   "metadata": {
    "execution": {
     "iopub.execute_input": "2023-08-21T15:00:42.819062Z",
     "iopub.status.busy": "2023-08-21T15:00:42.818290Z",
     "iopub.status.idle": "2023-08-21T15:00:42.831542Z",
     "shell.execute_reply": "2023-08-21T15:00:42.830415Z",
     "shell.execute_reply.started": "2023-08-21T15:00:42.819026Z"
    }
   },
   "outputs": [
    {
     "data": {
      "text/plain": [
       "0.5733871714179933"
      ]
     },
     "execution_count": 66,
     "metadata": {},
     "output_type": "execute_result"
    }
   ],
   "source": [
    "accuracy_score(y_test, y_pred)"
   ]
  },
  {
   "cell_type": "markdown",
   "metadata": {},
   "source": [
    "### В качестве улучшения будет использоваться модель градиентного бустинга - композиционной модели из решающих деревьев, которая в отличие от knn действительно 'обучается', каждая базовая модель в композиции минимизирует энтропию"
   ]
  },
  {
   "cell_type": "code",
   "execution_count": 23,
   "metadata": {
    "execution": {
     "iopub.execute_input": "2023-08-20T13:09:53.100246Z",
     "iopub.status.busy": "2023-08-20T13:09:53.099842Z",
     "iopub.status.idle": "2023-08-20T13:11:02.596807Z",
     "shell.execute_reply": "2023-08-20T13:11:02.595763Z",
     "shell.execute_reply.started": "2023-08-20T13:09:53.100204Z"
    }
   },
   "outputs": [],
   "source": [
    "train_dataset = Pool(data=X_train, label=y_train)\n",
    "valid_dataset = Pool(data=X_test, label=y_test)"
   ]
  },
  {
   "cell_type": "code",
   "execution_count": 25,
   "metadata": {
    "execution": {
     "iopub.execute_input": "2023-08-20T13:11:16.672003Z",
     "iopub.status.busy": "2023-08-20T13:11:16.671628Z",
     "iopub.status.idle": "2023-08-20T13:11:16.679793Z",
     "shell.execute_reply": "2023-08-20T13:11:16.678742Z",
     "shell.execute_reply.started": "2023-08-20T13:11:16.671973Z"
    }
   },
   "outputs": [],
   "source": [
    "clf = CatBoostClassifier(random_seed=SEED, task_type='GPU', devices='0', loss_function='MultiClass')"
   ]
  },
  {
   "cell_type": "code",
   "execution_count": 26,
   "metadata": {
    "execution": {
     "iopub.execute_input": "2023-08-20T13:11:19.545241Z",
     "iopub.status.busy": "2023-08-20T13:11:19.544856Z",
     "iopub.status.idle": "2023-08-20T13:11:48.404944Z",
     "shell.execute_reply": "2023-08-20T13:11:48.403994Z",
     "shell.execute_reply.started": "2023-08-20T13:11:19.545180Z"
    }
   },
   "outputs": [
    {
     "data": {
      "text/plain": [
       "<catboost.core.CatBoostClassifier at 0x7f1562955060>"
      ]
     },
     "execution_count": 26,
     "metadata": {},
     "output_type": "execute_result"
    }
   ],
   "source": [
    "clf.fit(train_dataset, verbose=False, eval_set=valid_dataset, early_stopping_rounds=50)"
   ]
  },
  {
   "cell_type": "code",
   "execution_count": 27,
   "metadata": {
    "execution": {
     "iopub.execute_input": "2023-08-20T13:11:52.766431Z",
     "iopub.status.busy": "2023-08-20T13:11:52.765236Z",
     "iopub.status.idle": "2023-08-20T13:12:07.199347Z",
     "shell.execute_reply": "2023-08-20T13:12:07.198244Z",
     "shell.execute_reply.started": "2023-08-20T13:11:52.766382Z"
    }
   },
   "outputs": [],
   "source": [
    "y_pred = clf.predict(X_test)"
   ]
  },
  {
   "cell_type": "code",
   "execution_count": 28,
   "metadata": {
    "execution": {
     "iopub.execute_input": "2023-08-20T13:12:37.448875Z",
     "iopub.status.busy": "2023-08-20T13:12:37.448285Z",
     "iopub.status.idle": "2023-08-20T13:12:37.462824Z",
     "shell.execute_reply": "2023-08-20T13:12:37.461478Z",
     "shell.execute_reply.started": "2023-08-20T13:12:37.448839Z"
    }
   },
   "outputs": [
    {
     "data": {
      "text/plain": [
       "0.6324740836727138"
      ]
     },
     "execution_count": 28,
     "metadata": {},
     "output_type": "execute_result"
    }
   ],
   "source": [
    "accuracy_score(y_test, y_pred)"
   ]
  },
  {
   "cell_type": "markdown",
   "metadata": {},
   "source": [
    "##### В качестве улучшения признаков будут использоваться эмбединги языковой модели, учитывающей глобальный контекст слова в предложении"
   ]
  },
  {
   "cell_type": "markdown",
   "metadata": {},
   "source": [
    "#### Использование предобученной на русских текстах модели  для получения эмбедингов каждого токена в заголовке"
   ]
  },
  {
   "cell_type": "code",
   "execution_count": 67,
   "metadata": {
    "execution": {
     "iopub.execute_input": "2023-08-21T15:12:09.412998Z",
     "iopub.status.busy": "2023-08-21T15:12:09.412602Z",
     "iopub.status.idle": "2023-08-21T15:12:24.535568Z",
     "shell.execute_reply": "2023-08-21T15:12:24.534200Z",
     "shell.execute_reply.started": "2023-08-21T15:12:09.412966Z"
    }
   },
   "outputs": [],
   "source": [
    "!pip install -q navec"
   ]
  },
  {
   "cell_type": "code",
   "execution_count": 71,
   "metadata": {
    "execution": {
     "iopub.execute_input": "2023-08-21T15:12:58.579458Z",
     "iopub.status.busy": "2023-08-21T15:12:58.579053Z",
     "iopub.status.idle": "2023-08-21T15:13:03.832727Z",
     "shell.execute_reply": "2023-08-21T15:13:03.831314Z",
     "shell.execute_reply.started": "2023-08-21T15:12:58.579425Z"
    }
   },
   "outputs": [
    {
     "name": "stdout",
     "output_type": "stream",
     "text": [
      "--2023-08-21 15:12:59--  https://storage.yandexcloud.net/natasha-navec/packs/navec_hudlit_v1_12B_500K_300d_100q.tar\n",
      "Resolving storage.yandexcloud.net (storage.yandexcloud.net)... 213.180.193.243, 2a02:6b8::1d9\n",
      "Connecting to storage.yandexcloud.net (storage.yandexcloud.net)|213.180.193.243|:443... connected.\n",
      "HTTP request sent, awaiting response... 200 OK\n",
      "Length: 53012480 (51M) [application/x-tar]\n",
      "Saving to: ‘navec_hudlit_v1_12B_500K_300d_100q.tar’\n",
      "\n",
      "navec_hudlit_v1_12B 100%[===================>]  50.56M  16.4MB/s    in 3.4s    \n",
      "\n",
      "2023-08-21 15:13:03 (15.1 MB/s) - ‘navec_hudlit_v1_12B_500K_300d_100q.tar’ saved [53012480/53012480]\n",
      "\n"
     ]
    }
   ],
   "source": [
    "!wget https://storage.yandexcloud.net/natasha-navec/packs/navec_hudlit_v1_12B_500K_300d_100q.tar"
   ]
  },
  {
   "cell_type": "code",
   "execution_count": 72,
   "metadata": {
    "execution": {
     "iopub.execute_input": "2023-08-21T15:13:06.366517Z",
     "iopub.status.busy": "2023-08-21T15:13:06.365686Z",
     "iopub.status.idle": "2023-08-21T15:13:06.381374Z",
     "shell.execute_reply": "2023-08-21T15:13:06.380219Z",
     "shell.execute_reply.started": "2023-08-21T15:13:06.366460Z"
    }
   },
   "outputs": [],
   "source": [
    "from navec import Navec"
   ]
  },
  {
   "cell_type": "code",
   "execution_count": 73,
   "metadata": {
    "execution": {
     "iopub.execute_input": "2023-08-21T15:13:07.335404Z",
     "iopub.status.busy": "2023-08-21T15:13:07.335016Z",
     "iopub.status.idle": "2023-08-21T15:13:07.340243Z",
     "shell.execute_reply": "2023-08-21T15:13:07.338985Z",
     "shell.execute_reply.started": "2023-08-21T15:13:07.335373Z"
    }
   },
   "outputs": [],
   "source": [
    "path = './navec_hudlit_v1_12B_500K_300d_100q.tar'"
   ]
  },
  {
   "cell_type": "code",
   "execution_count": 74,
   "metadata": {
    "execution": {
     "iopub.execute_input": "2023-08-21T15:13:10.323622Z",
     "iopub.status.busy": "2023-08-21T15:13:10.323232Z",
     "iopub.status.idle": "2023-08-21T15:13:11.162156Z",
     "shell.execute_reply": "2023-08-21T15:13:11.160640Z",
     "shell.execute_reply.started": "2023-08-21T15:13:10.323590Z"
    }
   },
   "outputs": [],
   "source": [
    "navec = Navec.load(path)"
   ]
  },
  {
   "cell_type": "code",
   "execution_count": 75,
   "metadata": {
    "execution": {
     "iopub.execute_input": "2023-08-21T15:17:58.312813Z",
     "iopub.status.busy": "2023-08-21T15:17:58.311792Z",
     "iopub.status.idle": "2023-08-21T15:17:58.321454Z",
     "shell.execute_reply": "2023-08-21T15:17:58.320307Z",
     "shell.execute_reply.started": "2023-08-21T15:17:58.312775Z"
    }
   },
   "outputs": [],
   "source": [
    "def mean_embed_text(lem_titles):\n",
    "    X, y = [], []\n",
    "    \n",
    "    for i, item in enumerate(tqdm(lem_titles)):\n",
    "        embed_sent = []  # массив куда будут помещаться эмбединги каждого токена в текущем заголовке\n",
    "        \n",
    "        sent = item.split(' ')\n",
    "        for word in sent:\n",
    "            if word in navec: # если токен есть в модели\n",
    "                embed = navec[word]\n",
    "                embed_sent.append(embed)\n",
    "        \n",
    "        embed_sent = np.array(embed_sent)\n",
    "        \n",
    "        if embed_sent.sum() != 0:  # может быть случай, что в текущем заголовке не нашлось ни одного токена в модели\n",
    "            embed_sent = embed_sent.mean(axis=0).reshape(1, -1)  # эмбединг заголовка получается усреднением каждого токена\n",
    "            X.append(embed_sent)\n",
    "            y.append(targets[i])\n",
    "            \n",
    "    X = np.concatenate(X)\n",
    "    y = np.array(y)\n",
    "    return X, y"
   ]
  },
  {
   "cell_type": "code",
   "execution_count": 76,
   "metadata": {
    "execution": {
     "iopub.execute_input": "2023-08-21T15:17:59.031776Z",
     "iopub.status.busy": "2023-08-21T15:17:59.031366Z",
     "iopub.status.idle": "2023-08-21T15:18:54.878037Z",
     "shell.execute_reply": "2023-08-21T15:18:54.876861Z",
     "shell.execute_reply.started": "2023-08-21T15:17:59.031744Z"
    }
   },
   "outputs": [
    {
     "name": "stderr",
     "output_type": "stream",
     "text": [
      "100%|██████████| 432158/432158 [00:54<00:00, 7860.19it/s]\n"
     ]
    }
   ],
   "source": [
    "X, y = mean_embed_text(lem_titles)\n",
    "        \n",
    "    "
   ]
  },
  {
   "cell_type": "code",
   "execution_count": 90,
   "metadata": {
    "execution": {
     "iopub.execute_input": "2023-08-21T15:35:07.502296Z",
     "iopub.status.busy": "2023-08-21T15:35:07.501883Z",
     "iopub.status.idle": "2023-08-21T15:35:07.672928Z",
     "shell.execute_reply": "2023-08-21T15:35:07.671945Z",
     "shell.execute_reply.started": "2023-08-21T15:35:07.502262Z"
    }
   },
   "outputs": [],
   "source": [
    "X_train, X_test, y_train, y_test = train_test_split(X, y, test_size=0.3, random_state=SEED)"
   ]
  },
  {
   "cell_type": "markdown",
   "metadata": {},
   "source": [
    "#### KNN"
   ]
  },
  {
   "cell_type": "code",
   "execution_count": 77,
   "metadata": {
    "execution": {
     "iopub.execute_input": "2023-08-21T15:19:18.980808Z",
     "iopub.status.busy": "2023-08-21T15:19:18.980408Z",
     "iopub.status.idle": "2023-08-21T15:19:18.986462Z",
     "shell.execute_reply": "2023-08-21T15:19:18.984961Z",
     "shell.execute_reply.started": "2023-08-21T15:19:18.980773Z"
    }
   },
   "outputs": [],
   "source": [
    "knn = KNeighborsClassifier(n_neighbors=3)"
   ]
  },
  {
   "cell_type": "code",
   "execution_count": 78,
   "metadata": {
    "execution": {
     "iopub.execute_input": "2023-08-21T15:19:19.948527Z",
     "iopub.status.busy": "2023-08-21T15:19:19.948161Z",
     "iopub.status.idle": "2023-08-21T15:19:20.054052Z",
     "shell.execute_reply": "2023-08-21T15:19:20.052897Z",
     "shell.execute_reply.started": "2023-08-21T15:19:19.948494Z"
    }
   },
   "outputs": [
    {
     "data": {
      "text/html": [
       "<style>#sk-container-id-2 {color: black;background-color: white;}#sk-container-id-2 pre{padding: 0;}#sk-container-id-2 div.sk-toggleable {background-color: white;}#sk-container-id-2 label.sk-toggleable__label {cursor: pointer;display: block;width: 100%;margin-bottom: 0;padding: 0.3em;box-sizing: border-box;text-align: center;}#sk-container-id-2 label.sk-toggleable__label-arrow:before {content: \"▸\";float: left;margin-right: 0.25em;color: #696969;}#sk-container-id-2 label.sk-toggleable__label-arrow:hover:before {color: black;}#sk-container-id-2 div.sk-estimator:hover label.sk-toggleable__label-arrow:before {color: black;}#sk-container-id-2 div.sk-toggleable__content {max-height: 0;max-width: 0;overflow: hidden;text-align: left;background-color: #f0f8ff;}#sk-container-id-2 div.sk-toggleable__content pre {margin: 0.2em;color: black;border-radius: 0.25em;background-color: #f0f8ff;}#sk-container-id-2 input.sk-toggleable__control:checked~div.sk-toggleable__content {max-height: 200px;max-width: 100%;overflow: auto;}#sk-container-id-2 input.sk-toggleable__control:checked~label.sk-toggleable__label-arrow:before {content: \"▾\";}#sk-container-id-2 div.sk-estimator input.sk-toggleable__control:checked~label.sk-toggleable__label {background-color: #d4ebff;}#sk-container-id-2 div.sk-label input.sk-toggleable__control:checked~label.sk-toggleable__label {background-color: #d4ebff;}#sk-container-id-2 input.sk-hidden--visually {border: 0;clip: rect(1px 1px 1px 1px);clip: rect(1px, 1px, 1px, 1px);height: 1px;margin: -1px;overflow: hidden;padding: 0;position: absolute;width: 1px;}#sk-container-id-2 div.sk-estimator {font-family: monospace;background-color: #f0f8ff;border: 1px dotted black;border-radius: 0.25em;box-sizing: border-box;margin-bottom: 0.5em;}#sk-container-id-2 div.sk-estimator:hover {background-color: #d4ebff;}#sk-container-id-2 div.sk-parallel-item::after {content: \"\";width: 100%;border-bottom: 1px solid gray;flex-grow: 1;}#sk-container-id-2 div.sk-label:hover label.sk-toggleable__label {background-color: #d4ebff;}#sk-container-id-2 div.sk-serial::before {content: \"\";position: absolute;border-left: 1px solid gray;box-sizing: border-box;top: 0;bottom: 0;left: 50%;z-index: 0;}#sk-container-id-2 div.sk-serial {display: flex;flex-direction: column;align-items: center;background-color: white;padding-right: 0.2em;padding-left: 0.2em;position: relative;}#sk-container-id-2 div.sk-item {position: relative;z-index: 1;}#sk-container-id-2 div.sk-parallel {display: flex;align-items: stretch;justify-content: center;background-color: white;position: relative;}#sk-container-id-2 div.sk-item::before, #sk-container-id-2 div.sk-parallel-item::before {content: \"\";position: absolute;border-left: 1px solid gray;box-sizing: border-box;top: 0;bottom: 0;left: 50%;z-index: -1;}#sk-container-id-2 div.sk-parallel-item {display: flex;flex-direction: column;z-index: 1;position: relative;background-color: white;}#sk-container-id-2 div.sk-parallel-item:first-child::after {align-self: flex-end;width: 50%;}#sk-container-id-2 div.sk-parallel-item:last-child::after {align-self: flex-start;width: 50%;}#sk-container-id-2 div.sk-parallel-item:only-child::after {width: 0;}#sk-container-id-2 div.sk-dashed-wrapped {border: 1px dashed gray;margin: 0 0.4em 0.5em 0.4em;box-sizing: border-box;padding-bottom: 0.4em;background-color: white;}#sk-container-id-2 div.sk-label label {font-family: monospace;font-weight: bold;display: inline-block;line-height: 1.2em;}#sk-container-id-2 div.sk-label-container {text-align: center;}#sk-container-id-2 div.sk-container {/* jupyter's `normalize.less` sets `[hidden] { display: none; }` but bootstrap.min.css set `[hidden] { display: none !important; }` so we also need the `!important` here to be able to override the default hidden behavior on the sphinx rendered scikit-learn.org. See: https://github.com/scikit-learn/scikit-learn/issues/21755 */display: inline-block !important;position: relative;}#sk-container-id-2 div.sk-text-repr-fallback {display: none;}</style><div id=\"sk-container-id-2\" class=\"sk-top-container\"><div class=\"sk-text-repr-fallback\"><pre>KNeighborsClassifier(n_neighbors=3)</pre><b>In a Jupyter environment, please rerun this cell to show the HTML representation or trust the notebook. <br />On GitHub, the HTML representation is unable to render, please try loading this page with nbviewer.org.</b></div><div class=\"sk-container\" hidden><div class=\"sk-item\"><div class=\"sk-estimator sk-toggleable\"><input class=\"sk-toggleable__control sk-hidden--visually\" id=\"sk-estimator-id-2\" type=\"checkbox\" checked><label for=\"sk-estimator-id-2\" class=\"sk-toggleable__label sk-toggleable__label-arrow\">KNeighborsClassifier</label><div class=\"sk-toggleable__content\"><pre>KNeighborsClassifier(n_neighbors=3)</pre></div></div></div></div></div>"
      ],
      "text/plain": [
       "KNeighborsClassifier(n_neighbors=3)"
      ]
     },
     "execution_count": 78,
     "metadata": {},
     "output_type": "execute_result"
    }
   ],
   "source": [
    "knn.fit(X_train, y_train)"
   ]
  },
  {
   "cell_type": "code",
   "execution_count": 79,
   "metadata": {
    "execution": {
     "iopub.execute_input": "2023-08-21T15:19:37.862288Z",
     "iopub.status.busy": "2023-08-21T15:19:37.861680Z",
     "iopub.status.idle": "2023-08-21T15:27:24.997616Z",
     "shell.execute_reply": "2023-08-21T15:27:24.996353Z",
     "shell.execute_reply.started": "2023-08-21T15:19:37.862247Z"
    }
   },
   "outputs": [],
   "source": [
    "y_pred = knn.predict(X_test)"
   ]
  },
  {
   "cell_type": "code",
   "execution_count": 80,
   "metadata": {
    "execution": {
     "iopub.execute_input": "2023-08-21T15:27:35.938033Z",
     "iopub.status.busy": "2023-08-21T15:27:35.936890Z",
     "iopub.status.idle": "2023-08-21T15:27:35.952214Z",
     "shell.execute_reply": "2023-08-21T15:27:35.950957Z",
     "shell.execute_reply.started": "2023-08-21T15:27:35.937990Z"
    }
   },
   "outputs": [
    {
     "data": {
      "text/plain": [
       "0.5733871714179933"
      ]
     },
     "execution_count": 80,
     "metadata": {},
     "output_type": "execute_result"
    }
   ],
   "source": [
    "accuracy_score(y_test, y_pred)"
   ]
  },
  {
   "cell_type": "markdown",
   "metadata": {},
   "source": [
    "#### Catboost"
   ]
  },
  {
   "cell_type": "code",
   "execution_count": 92,
   "metadata": {
    "execution": {
     "iopub.execute_input": "2023-08-21T15:35:33.817858Z",
     "iopub.status.busy": "2023-08-21T15:35:33.817460Z",
     "iopub.status.idle": "2023-08-21T15:35:37.823481Z",
     "shell.execute_reply": "2023-08-21T15:35:37.822454Z",
     "shell.execute_reply.started": "2023-08-21T15:35:33.817824Z"
    }
   },
   "outputs": [],
   "source": [
    "train_dataset = Pool(data=X_train, label=y_train)\n",
    "valid_dataset = Pool(data=X_test, label=y_test)"
   ]
  },
  {
   "cell_type": "code",
   "execution_count": 93,
   "metadata": {
    "execution": {
     "iopub.execute_input": "2023-08-21T15:36:00.840994Z",
     "iopub.status.busy": "2023-08-21T15:36:00.839830Z",
     "iopub.status.idle": "2023-08-21T15:36:00.846950Z",
     "shell.execute_reply": "2023-08-21T15:36:00.845671Z",
     "shell.execute_reply.started": "2023-08-21T15:36:00.840942Z"
    }
   },
   "outputs": [],
   "source": [
    "clf = CatBoostClassifier(random_seed=SEED, task_type='GPU', devices='0', loss_function='MultiClass')"
   ]
  },
  {
   "cell_type": "code",
   "execution_count": 94,
   "metadata": {
    "execution": {
     "iopub.execute_input": "2023-08-21T15:36:02.020023Z",
     "iopub.status.busy": "2023-08-21T15:36:02.018767Z",
     "iopub.status.idle": "2023-08-21T15:36:49.859001Z",
     "shell.execute_reply": "2023-08-21T15:36:49.858151Z",
     "shell.execute_reply.started": "2023-08-21T15:36:02.019964Z"
    }
   },
   "outputs": [
    {
     "name": "stdout",
     "output_type": "stream",
     "text": [
      "Learning rate set to 0.187234\n",
      "0:\tlearn: 1.6131076\ttest: 1.6142960\tbest: 1.6142960 (0)\ttotal: 84.7ms\tremaining: 1m 24s\n",
      "200:\tlearn: 0.5857572\ttest: 0.6205834\tbest: 0.6205834 (200)\ttotal: 8.47s\tremaining: 33.7s\n",
      "400:\tlearn: 0.5104456\ttest: 0.5755603\tbest: 0.5755603 (400)\ttotal: 16s\tremaining: 24s\n",
      "600:\tlearn: 0.4652047\ttest: 0.5555307\tbest: 0.5555307 (600)\ttotal: 23.7s\tremaining: 15.7s\n",
      "800:\tlearn: 0.4314134\ttest: 0.5434316\tbest: 0.5434316 (800)\ttotal: 31.3s\tremaining: 7.77s\n",
      "999:\tlearn: 0.4033543\ttest: 0.5348500\tbest: 0.5348500 (999)\ttotal: 38.2s\tremaining: 0us\n",
      "bestTest = 0.5348499749\n",
      "bestIteration = 999\n"
     ]
    },
    {
     "data": {
      "text/plain": [
       "<catboost.core.CatBoostClassifier at 0x7e7f73aeee90>"
      ]
     },
     "execution_count": 94,
     "metadata": {},
     "output_type": "execute_result"
    }
   ],
   "source": [
    "clf.fit(train_dataset, verbose=200, eval_set=valid_dataset, early_stopping_rounds=50)"
   ]
  },
  {
   "cell_type": "code",
   "execution_count": 95,
   "metadata": {
    "execution": {
     "iopub.execute_input": "2023-08-21T15:37:07.749431Z",
     "iopub.status.busy": "2023-08-21T15:37:07.749075Z",
     "iopub.status.idle": "2023-08-21T15:37:09.991272Z",
     "shell.execute_reply": "2023-08-21T15:37:09.990176Z",
     "shell.execute_reply.started": "2023-08-21T15:37:07.749400Z"
    }
   },
   "outputs": [],
   "source": [
    "y_pred = clf.predict(X_test)"
   ]
  },
  {
   "cell_type": "code",
   "execution_count": 96,
   "metadata": {
    "execution": {
     "iopub.execute_input": "2023-08-21T15:37:09.993633Z",
     "iopub.status.busy": "2023-08-21T15:37:09.993269Z",
     "iopub.status.idle": "2023-08-21T15:37:10.011568Z",
     "shell.execute_reply": "2023-08-21T15:37:10.010702Z",
     "shell.execute_reply.started": "2023-08-21T15:37:09.993587Z"
    }
   },
   "outputs": [
    {
     "data": {
      "text/plain": [
       "0.81874349184311"
      ]
     },
     "execution_count": 96,
     "metadata": {},
     "output_type": "execute_result"
    }
   ],
   "source": [
    "accuracy_score(y_test, y_pred)"
   ]
  },
  {
   "cell_type": "markdown",
   "metadata": {},
   "source": [
    "#### Попробую диверсифировать модель за счет валидации, каждая модель будет обучаться на отдельной подвыборке -> это делает ее более обобщаемой на разные данные"
   ]
  },
  {
   "cell_type": "markdown",
   "metadata": {},
   "source": [
    "##### StratifiedKFold - стратегия, так чтобы и в обучении и в валидации было одинаковое распределение классов"
   ]
  },
  {
   "cell_type": "code",
   "execution_count": 112,
   "metadata": {
    "execution": {
     "iopub.execute_input": "2023-08-20T11:15:23.740286Z",
     "iopub.status.busy": "2023-08-20T11:15:23.739138Z",
     "iopub.status.idle": "2023-08-20T11:15:23.746534Z",
     "shell.execute_reply": "2023-08-20T11:15:23.745721Z",
     "shell.execute_reply.started": "2023-08-20T11:15:23.740245Z"
    }
   },
   "outputs": [],
   "source": [
    "from sklearn.model_selection import StratifiedKFold"
   ]
  },
  {
   "cell_type": "code",
   "execution_count": 116,
   "metadata": {
    "execution": {
     "iopub.execute_input": "2023-08-20T11:17:03.599485Z",
     "iopub.status.busy": "2023-08-20T11:17:03.599131Z",
     "iopub.status.idle": "2023-08-20T11:17:03.604111Z",
     "shell.execute_reply": "2023-08-20T11:17:03.603176Z",
     "shell.execute_reply.started": "2023-08-20T11:17:03.599455Z"
    }
   },
   "outputs": [],
   "source": [
    "skf = StratifiedKFold(n_splits=5)"
   ]
  },
  {
   "cell_type": "code",
   "execution_count": 124,
   "metadata": {
    "execution": {
     "iopub.execute_input": "2023-08-20T11:29:20.123134Z",
     "iopub.status.busy": "2023-08-20T11:29:20.122716Z",
     "iopub.status.idle": "2023-08-20T11:38:26.290127Z",
     "shell.execute_reply": "2023-08-20T11:38:26.289036Z",
     "shell.execute_reply.started": "2023-08-20T11:29:20.123099Z"
    }
   },
   "outputs": [
    {
     "name": "stdout",
     "output_type": "stream",
     "text": [
      "Learning rate set to 0.113265\n",
      "0:\tlearn: 1.6785449\ttest: 1.6792979\tbest: 1.6792979 (0)\ttotal: 71.7ms\tremaining: 3m 35s\n",
      "200:\tlearn: 0.6379960\ttest: 0.6621832\tbest: 0.6621832 (200)\ttotal: 7.29s\tremaining: 1m 41s\n",
      "400:\tlearn: 0.5545690\ttest: 0.6037919\tbest: 0.6037919 (400)\ttotal: 13.8s\tremaining: 1m 29s\n",
      "600:\tlearn: 0.5091109\ttest: 0.5790420\tbest: 0.5790420 (600)\ttotal: 20s\tremaining: 1m 19s\n",
      "800:\tlearn: 0.4759340\ttest: 0.5635228\tbest: 0.5635228 (800)\ttotal: 27s\tremaining: 1m 14s\n",
      "1000:\tlearn: 0.4489356\ttest: 0.5528584\tbest: 0.5528584 (1000)\ttotal: 33s\tremaining: 1m 5s\n",
      "1200:\tlearn: 0.4257447\ttest: 0.5447321\tbest: 0.5447321 (1200)\ttotal: 39.1s\tremaining: 58.6s\n",
      "1400:\tlearn: 0.4043756\ttest: 0.5377471\tbest: 0.5377471 (1400)\ttotal: 45.2s\tremaining: 51.6s\n",
      "1600:\tlearn: 0.3856997\ttest: 0.5321511\tbest: 0.5321511 (1600)\ttotal: 51.3s\tremaining: 44.8s\n",
      "1800:\tlearn: 0.3674698\ttest: 0.5269136\tbest: 0.5269136 (1800)\ttotal: 58.3s\tremaining: 38.8s\n",
      "2000:\tlearn: 0.3514805\ttest: 0.5229248\tbest: 0.5229248 (2000)\ttotal: 1m 4s\tremaining: 32.2s\n",
      "2200:\tlearn: 0.3364630\ttest: 0.5192374\tbest: 0.5192374 (2200)\ttotal: 1m 10s\tremaining: 25.6s\n",
      "2400:\tlearn: 0.3230123\ttest: 0.5164586\tbest: 0.5164586 (2400)\ttotal: 1m 16s\tremaining: 19.1s\n",
      "2600:\tlearn: 0.3093363\ttest: 0.5134037\tbest: 0.5134022 (2599)\ttotal: 1m 22s\tremaining: 12.7s\n",
      "2800:\tlearn: 0.2961198\ttest: 0.5109385\tbest: 0.5109385 (2800)\ttotal: 1m 29s\tremaining: 6.35s\n",
      "2999:\tlearn: 0.2832936\ttest: 0.5084653\tbest: 0.5084653 (2999)\ttotal: 1m 35s\tremaining: 0us\n",
      "bestTest = 0.5084652849\n",
      "bestIteration = 2999\n",
      "Learning rate set to 0.113265\n",
      "0:\tlearn: 1.6785305\ttest: 1.6784379\tbest: 1.6784379 (0)\ttotal: 72.2ms\tremaining: 3m 36s\n",
      "200:\tlearn: 0.6371018\ttest: 0.6644099\tbest: 0.6644099 (200)\ttotal: 7.33s\tremaining: 1m 42s\n",
      "400:\tlearn: 0.5533557\ttest: 0.6059081\tbest: 0.6059081 (400)\ttotal: 14.8s\tremaining: 1m 36s\n",
      "600:\tlearn: 0.5074126\ttest: 0.5797562\tbest: 0.5797562 (600)\ttotal: 21.2s\tremaining: 1m 24s\n",
      "800:\tlearn: 0.4749824\ttest: 0.5642775\tbest: 0.5642775 (800)\ttotal: 27.5s\tremaining: 1m 15s\n",
      "1000:\tlearn: 0.4474271\ttest: 0.5528646\tbest: 0.5528646 (1000)\ttotal: 33.7s\tremaining: 1m 7s\n",
      "1200:\tlearn: 0.4241895\ttest: 0.5442422\tbest: 0.5442422 (1200)\ttotal: 39.8s\tremaining: 59.7s\n",
      "1400:\tlearn: 0.4040394\ttest: 0.5374248\tbest: 0.5374248 (1400)\ttotal: 46.8s\tremaining: 53.4s\n",
      "1600:\tlearn: 0.3851191\ttest: 0.5316944\tbest: 0.5316944 (1600)\ttotal: 52.8s\tremaining: 46.1s\n",
      "1800:\tlearn: 0.3678181\ttest: 0.5265838\tbest: 0.5265838 (1800)\ttotal: 58.9s\tremaining: 39.2s\n",
      "2000:\tlearn: 0.3514630\ttest: 0.5220798\tbest: 0.5220798 (2000)\ttotal: 1m 4s\tremaining: 32.4s\n",
      "2200:\tlearn: 0.3367035\ttest: 0.5180148\tbest: 0.5180148 (2200)\ttotal: 1m 10s\tremaining: 25.7s\n",
      "2400:\tlearn: 0.3222712\ttest: 0.5149521\tbest: 0.5149521 (2400)\ttotal: 1m 17s\tremaining: 19.4s\n",
      "2600:\tlearn: 0.3084702\ttest: 0.5118455\tbest: 0.5118455 (2600)\ttotal: 1m 24s\tremaining: 12.9s\n",
      "2800:\tlearn: 0.2956543\ttest: 0.5092563\tbest: 0.5092563 (2800)\ttotal: 1m 30s\tremaining: 6.4s\n",
      "2999:\tlearn: 0.2831633\ttest: 0.5068152\tbest: 0.5068152 (2999)\ttotal: 1m 36s\tremaining: 0us\n",
      "bestTest = 0.506815196\n",
      "bestIteration = 2999\n",
      "Learning rate set to 0.113265\n",
      "0:\tlearn: 1.6783704\ttest: 1.6783912\tbest: 1.6783912 (0)\ttotal: 72.9ms\tremaining: 3m 38s\n",
      "200:\tlearn: 0.6356972\ttest: 0.6674899\tbest: 0.6674899 (200)\ttotal: 7.4s\tremaining: 1m 43s\n",
      "400:\tlearn: 0.5528760\ttest: 0.6097914\tbest: 0.6097914 (400)\ttotal: 14.2s\tremaining: 1m 31s\n",
      "600:\tlearn: 0.5067570\ttest: 0.5845934\tbest: 0.5845934 (600)\ttotal: 20.6s\tremaining: 1m 22s\n",
      "800:\tlearn: 0.4733090\ttest: 0.5689930\tbest: 0.5689930 (800)\ttotal: 27s\tremaining: 1m 14s\n",
      "1000:\tlearn: 0.4469931\ttest: 0.5584493\tbest: 0.5584493 (1000)\ttotal: 33.9s\tremaining: 1m 7s\n",
      "1200:\tlearn: 0.4231111\ttest: 0.5499763\tbest: 0.5499763 (1200)\ttotal: 40.2s\tremaining: 1m\n",
      "1400:\tlearn: 0.4026471\ttest: 0.5436498\tbest: 0.5436498 (1400)\ttotal: 46.2s\tremaining: 52.8s\n",
      "1600:\tlearn: 0.3838888\ttest: 0.5380324\tbest: 0.5380324 (1600)\ttotal: 52.2s\tremaining: 45.6s\n",
      "1800:\tlearn: 0.3664412\ttest: 0.5333292\tbest: 0.5333279 (1799)\ttotal: 58.4s\tremaining: 38.8s\n",
      "2000:\tlearn: 0.3511399\ttest: 0.5296770\tbest: 0.5296770 (2000)\ttotal: 1m 5s\tremaining: 32.6s\n",
      "2200:\tlearn: 0.3362345\ttest: 0.5260907\tbest: 0.5260907 (2200)\ttotal: 1m 11s\tremaining: 25.9s\n",
      "2400:\tlearn: 0.3212628\ttest: 0.5227986\tbest: 0.5227897 (2399)\ttotal: 1m 17s\tremaining: 19.3s\n",
      "2600:\tlearn: 0.3074769\ttest: 0.5197136\tbest: 0.5197136 (2600)\ttotal: 1m 23s\tremaining: 12.8s\n",
      "2800:\tlearn: 0.2948035\ttest: 0.5171126\tbest: 0.5171126 (2800)\ttotal: 1m 29s\tremaining: 6.37s\n",
      "2999:\tlearn: 0.2822367\ttest: 0.5143569\tbest: 0.5143540 (2998)\ttotal: 1m 36s\tremaining: 0us\n",
      "bestTest = 0.5143539725\n",
      "bestIteration = 2998\n",
      "Shrink model to first 2999 iterations.\n",
      "Learning rate set to 0.113265\n",
      "0:\tlearn: 1.6785296\ttest: 1.6786036\tbest: 1.6786036 (0)\ttotal: 72.7ms\tremaining: 3m 37s\n",
      "200:\tlearn: 0.6365452\ttest: 0.6677091\tbest: 0.6677091 (200)\ttotal: 7.46s\tremaining: 1m 43s\n",
      "400:\tlearn: 0.5540060\ttest: 0.6092459\tbest: 0.6092459 (400)\ttotal: 14.1s\tremaining: 1m 31s\n",
      "600:\tlearn: 0.5085587\ttest: 0.5839248\tbest: 0.5839248 (600)\ttotal: 21.5s\tremaining: 1m 26s\n",
      "800:\tlearn: 0.4752772\ttest: 0.5685068\tbest: 0.5685068 (800)\ttotal: 27.9s\tremaining: 1m 16s\n",
      "1000:\tlearn: 0.4483643\ttest: 0.5570722\tbest: 0.5570722 (1000)\ttotal: 34s\tremaining: 1m 7s\n",
      "1200:\tlearn: 0.4251740\ttest: 0.5484054\tbest: 0.5484054 (1200)\ttotal: 40.2s\tremaining: 1m\n",
      "1400:\tlearn: 0.4042936\ttest: 0.5421539\tbest: 0.5421539 (1400)\ttotal: 46.2s\tremaining: 52.7s\n",
      "1600:\tlearn: 0.3850471\ttest: 0.5361174\tbest: 0.5361174 (1600)\ttotal: 53s\tremaining: 46.3s\n",
      "1800:\tlearn: 0.3677058\ttest: 0.5311992\tbest: 0.5311992 (1800)\ttotal: 59.1s\tremaining: 39.3s\n",
      "2000:\tlearn: 0.3516395\ttest: 0.5271589\tbest: 0.5271589 (2000)\ttotal: 1m 5s\tremaining: 32.5s\n",
      "2200:\tlearn: 0.3363891\ttest: 0.5235175\tbest: 0.5235175 (2200)\ttotal: 1m 11s\tremaining: 25.8s\n",
      "2400:\tlearn: 0.3222601\ttest: 0.5203222\tbest: 0.5203222 (2400)\ttotal: 1m 17s\tremaining: 19.3s\n",
      "2600:\tlearn: 0.3083753\ttest: 0.5172859\tbest: 0.5172859 (2600)\ttotal: 1m 24s\tremaining: 12.9s\n",
      "2800:\tlearn: 0.2952471\ttest: 0.5142749\tbest: 0.5142749 (2800)\ttotal: 1m 30s\tremaining: 6.42s\n",
      "2999:\tlearn: 0.2826936\ttest: 0.5121042\tbest: 0.5121042 (2999)\ttotal: 1m 36s\tremaining: 0us\n",
      "bestTest = 0.5121041774\n",
      "bestIteration = 2999\n",
      "Learning rate set to 0.113265\n",
      "0:\tlearn: 1.6783728\ttest: 1.6793529\tbest: 1.6793529 (0)\ttotal: 72.3ms\tremaining: 3m 36s\n",
      "200:\tlearn: 0.6382347\ttest: 0.6646455\tbest: 0.6646455 (200)\ttotal: 8.16s\tremaining: 1m 53s\n",
      "400:\tlearn: 0.5556254\ttest: 0.6049866\tbest: 0.6049866 (400)\ttotal: 14.8s\tremaining: 1m 36s\n",
      "600:\tlearn: 0.5105888\ttest: 0.5800692\tbest: 0.5800692 (600)\ttotal: 21.7s\tremaining: 1m 26s\n",
      "800:\tlearn: 0.4774018\ttest: 0.5644669\tbest: 0.5644669 (800)\ttotal: 28s\tremaining: 1m 16s\n",
      "1000:\tlearn: 0.4497459\ttest: 0.5533680\tbest: 0.5533680 (1000)\ttotal: 35.4s\tremaining: 1m 10s\n",
      "1200:\tlearn: 0.4262574\ttest: 0.5447841\tbest: 0.5447841 (1200)\ttotal: 41.5s\tremaining: 1m 2s\n",
      "1400:\tlearn: 0.4059977\ttest: 0.5384742\tbest: 0.5384742 (1400)\ttotal: 47.5s\tremaining: 54.2s\n",
      "1600:\tlearn: 0.3866516\ttest: 0.5324759\tbest: 0.5324759 (1600)\ttotal: 53.7s\tremaining: 46.9s\n",
      "1800:\tlearn: 0.3693020\ttest: 0.5272895\tbest: 0.5272895 (1800)\ttotal: 59.7s\tremaining: 39.8s\n",
      "2000:\tlearn: 0.3535007\ttest: 0.5232655\tbest: 0.5232655 (2000)\ttotal: 1m 5s\tremaining: 32.9s\n",
      "2200:\tlearn: 0.3378025\ttest: 0.5193497\tbest: 0.5193497 (2200)\ttotal: 1m 12s\tremaining: 26.5s\n",
      "2400:\tlearn: 0.3229646\ttest: 0.5161601\tbest: 0.5161601 (2400)\ttotal: 1m 19s\tremaining: 19.7s\n",
      "2600:\tlearn: 0.3087235\ttest: 0.5130085\tbest: 0.5130085 (2600)\ttotal: 1m 25s\tremaining: 13.1s\n",
      "2800:\tlearn: 0.2958994\ttest: 0.5105061\tbest: 0.5105061 (2800)\ttotal: 1m 31s\tremaining: 6.49s\n",
      "2999:\tlearn: 0.2831365\ttest: 0.5078126\tbest: 0.5078007 (2998)\ttotal: 1m 37s\tremaining: 0us\n",
      "bestTest = 0.5078006844\n",
      "bestIteration = 2998\n",
      "Shrink model to first 2999 iterations.\n"
     ]
    }
   ],
   "source": [
    "clfs = []  # массив с обученными моделями\n",
    "scores = [] # значение метрики на каждом разбиении\n",
    "\n",
    "for i, (train_index, test_index) in enumerate(skf.split(X_train, y_train)):\n",
    "    \n",
    "    train_x, valid_x = X_train[train_index, :], X_train[test_index, :]\n",
    "    train_y, valid_y = y_train[train_index], y_train[test_index]\n",
    "    \n",
    "    train_dataset = Pool(data=train_x, label=train_y)\n",
    "    valid_dataset = Pool(data=valid_x, label=valid_y)\n",
    "    \n",
    "    clf = CatBoostClassifier(random_seed=SEED, iterations=3000, task_type='GPU', devices='0', loss_function='MultiClass')\n",
    "    clf.fit(train_dataset, verbose=200, eval_set=valid_dataset, early_stopping_rounds=100)\n",
    "    y_pred = clf.predict(valid_x)\n",
    "    clfs.append(clf)\n",
    "    \n",
    "    score = accuracy_score(valid_y, y_pred)\n",
    "    scores.append(score)\n",
    "    "
   ]
  },
  {
   "cell_type": "code",
   "execution_count": 126,
   "metadata": {
    "execution": {
     "iopub.execute_input": "2023-08-20T11:41:38.781171Z",
     "iopub.status.busy": "2023-08-20T11:41:38.780799Z",
     "iopub.status.idle": "2023-08-20T11:41:38.788297Z",
     "shell.execute_reply": "2023-08-20T11:41:38.786922Z",
     "shell.execute_reply.started": "2023-08-20T11:41:38.781141Z"
    }
   },
   "outputs": [
    {
     "name": "stdout",
     "output_type": "stream",
     "text": [
      "0.8258375894613312 0.8292920778168956 0.8250938001024777 0.828 0.8280330578512397\n"
     ]
    }
   ],
   "source": [
    "print(*scores)  # значение метрик на валидации имеют примерно одинаковые значения"
   ]
  },
  {
   "cell_type": "code",
   "execution_count": 182,
   "metadata": {
    "execution": {
     "iopub.execute_input": "2023-08-20T12:04:15.509040Z",
     "iopub.status.busy": "2023-08-20T12:04:15.508658Z",
     "iopub.status.idle": "2023-08-20T12:04:32.992883Z",
     "shell.execute_reply": "2023-08-20T12:04:32.991792Z",
     "shell.execute_reply.started": "2023-08-20T12:04:15.509009Z"
    }
   },
   "outputs": [],
   "source": [
    "all_pred = []\n",
    "for clf in clfs:\n",
    "    y_pred = clf.predict(X_test)  # предсказание каждого классификатора\n",
    "    all_pred.append(y_pred)\n",
    "    \n",
    "all_pred = np.array(all_pred).squeeze(2)\n",
    "    "
   ]
  },
  {
   "cell_type": "code",
   "execution_count": 15,
   "metadata": {
    "execution": {
     "iopub.execute_input": "2023-08-20T12:09:53.831177Z",
     "iopub.status.busy": "2023-08-20T12:09:53.830802Z",
     "iopub.status.idle": "2023-08-20T12:09:53.837411Z",
     "shell.execute_reply": "2023-08-20T12:09:53.836433Z",
     "shell.execute_reply.started": "2023-08-20T12:09:53.831145Z"
    }
   },
   "outputs": [],
   "source": [
    "def avg_class(arr: np.ndarray) -> int:\n",
    "    '''\n",
    "    Вытаскиваем самый частотный предсказываемый класс среди пяти моделей\n",
    "    '''\n",
    "    unique_elements, counts = np.unique(arr, return_counts=True)\n",
    "    max_count_index = np.argmax(counts)\n",
    "    max_count = counts[max_count_index]\n",
    "    most_frequent_elements = unique_elements[counts == max_count]\n",
    "    \n",
    "    return most_frequent_elements[0]  # если таких два, вытаскиваем первый\n",
    "        "
   ]
  },
  {
   "cell_type": "code",
   "execution_count": 199,
   "metadata": {
    "execution": {
     "iopub.execute_input": "2023-08-20T12:10:25.669476Z",
     "iopub.status.busy": "2023-08-20T12:10:25.669111Z",
     "iopub.status.idle": "2023-08-20T12:10:30.032403Z",
     "shell.execute_reply": "2023-08-20T12:10:30.031380Z",
     "shell.execute_reply.started": "2023-08-20T12:10:25.669443Z"
    }
   },
   "outputs": [],
   "source": [
    "avg_pred = []\n",
    "for i in range(all_pred.shape[1]):\n",
    "    pred = all_pred[:, i]\n",
    "    avg_pred.append(avg_class(pred))\n",
    "    \n",
    "avg_pred = np.array(avg_pred)\n",
    "    "
   ]
  },
  {
   "cell_type": "code",
   "execution_count": 204,
   "metadata": {
    "execution": {
     "iopub.execute_input": "2023-08-20T12:11:06.596323Z",
     "iopub.status.busy": "2023-08-20T12:11:06.595967Z",
     "iopub.status.idle": "2023-08-20T12:11:06.612697Z",
     "shell.execute_reply": "2023-08-20T12:11:06.611790Z",
     "shell.execute_reply.started": "2023-08-20T12:11:06.596294Z"
    }
   },
   "outputs": [
    {
     "data": {
      "text/plain": [
       "0.832858961008909"
      ]
     },
     "execution_count": 204,
     "metadata": {},
     "output_type": "execute_result"
    }
   ],
   "source": [
    "accuracy_score(y_test, avg_pred)"
   ]
  },
  {
   "cell_type": "markdown",
   "metadata": {},
   "source": [
    "#### Также попробовал сделать взвешенную сумму эмбедингов токенов в соотвествии с TF-IDF, но это дало худшие результаты"
   ]
  },
  {
   "cell_type": "code",
   "execution_count": null,
   "metadata": {},
   "outputs": [],
   "source": []
  }
 ],
 "metadata": {
  "kernelspec": {
   "display_name": "Python 3 (ipykernel)",
   "language": "python",
   "name": "python3"
  },
  "language_info": {
   "codemirror_mode": {
    "name": "ipython",
    "version": 3
   },
   "file_extension": ".py",
   "mimetype": "text/x-python",
   "name": "python",
   "nbconvert_exporter": "python",
   "pygments_lexer": "ipython3",
   "version": "3.10.12"
  }
 },
 "nbformat": 4,
 "nbformat_minor": 4
}
